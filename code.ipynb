{
 "cells": [
  {
   "cell_type": "code",
   "execution_count": 1,
   "metadata": {
    "collapsed": false
   },
   "outputs": [
    {
     "name": "stdout",
     "output_type": "stream",
     "text": [
      "ongoing \"肝气郁结证型系数 \"KMean cluster\n"
     ]
    },
    {
     "name": "stderr",
     "output_type": "stream",
     "text": [
      "D:\\pythonanaconda\\lib\\site-packages\\ipykernel\\__main__.py:18: FutureWarning: sort(columns=....) is deprecated, use sort_values(by=.....)\n",
      "D:\\pythonanaconda\\lib\\site-packages\\ipykernel\\__main__.py:20: FutureWarning: pd.rolling_mean is deprecated for Series and will be removed in a future version, replace with \n",
      "\tSeries.rolling(window=2,center=False).mean()\n",
      "D:\\pythonanaconda\\lib\\site-packages\\ipykernel\\__main__.py:21: SettingWithCopyWarning: \n",
      "A value is trying to be set on a copy of a slice from a DataFrame\n",
      "\n",
      "See the caveats in the documentation: http://pandas.pydata.org/pandas-docs/stable/indexing.html#indexing-view-versus-copy\n",
      "D:\\pythonanaconda\\lib\\site-packages\\ipykernel\\__main__.py:23: FutureWarning: sort(....) is deprecated, use sort_index(.....)\n"
     ]
    },
    {
     "name": "stdout",
     "output_type": "stream",
     "text": [
      "ongoing \"热毒蕴结证型系数 \"KMean cluster\n",
      "ongoing \"冲任失调证型系数 \"KMean cluster\n",
      "ongoing \"气血两虚证型系数 \"KMean cluster\n",
      "ongoing \"脾胃虚弱证型系数 \"KMean cluster\n",
      "ongoing \"肝肾阴虚证型系数 \"KMean cluster\n",
      "        1           2           3           4\n",
      "A     0.0    0.178698    0.257724    0.351843\n",
      "An  240.0  356.000000  281.000000   53.000000\n",
      "B     0.0    0.153543    0.298217    0.489954\n",
      "Bn  342.0  380.000000  179.000000   29.000000\n",
      "C     0.0    0.202149    0.289061    0.423537\n",
      "Cn  297.0  394.000000  204.000000   35.000000\n",
      "D     0.0    0.172281    0.251683    0.359353\n",
      "Dn  283.0  375.000000  228.000000   44.000000\n",
      "E     0.0    0.152698    0.257873    0.376062\n",
      "En  273.0  319.000000  245.000000   93.000000\n",
      "F     0.0    0.179143    0.261386    0.354643\n",
      "Fn  200.0  237.000000  265.000000  228.000000\n"
     ]
    }
   ],
   "source": [
    "import pandas as pd\n",
    "datafile='d:/pydata/data.xls'\n",
    "typelabel ={u'肝气郁结证型系数':'A', u'热毒蕴结证型系数':'B', u'冲任失调证型系数':'C', u'气血两虚证型系数':'D', u'脾胃虚弱证型系数':'E', u'肝肾阴虚证型系数':'F'}\n",
    "k=4\n",
    "file=pd.read_excel(datafile)\n",
    "key=list(typelabel.keys())\n",
    "result=pd.DataFrame()\n",
    "from __future__ import print_function\n",
    "from sklearn.cluster import KMeans\n",
    "if __name__ =='__main__':\n",
    "    for i in range(len(key)):\n",
    "            print('ongoing \"%s \"KMean cluster' % key[i])\n",
    "            kmodel=KMeans(n_clusters=k,n_jobs=4)\n",
    "            kmodel.fit(file[[key[i]]].as_matrix())\n",
    "            r1=pd.DataFrame(kmodel.cluster_centers_,columns=[typelabel[key[i]]])\n",
    "            r2=pd.Series(kmodel.labels_).value_counts()\n",
    "            r2=pd.DataFrame(r2,columns=[typelabel[key[i]]+'n'])\n",
    "            r=pd.concat([r1,r2],axis=1).sort(typelabel[key[i]])\n",
    "            r.index=[1,2,3,4]\n",
    "            r[typelabel[key[i]]]=pd.rolling_mean(r[typelabel[key[i]]],2)\n",
    "            r[typelabel[key[i]]][1]=0.0\n",
    "            result=result.append(r.T)\n",
    "            result=result.sort()\n",
    "print(result)\n",
    "            \n",
    " \n",
    "\n",
    "    \n",
    "    \n",
    "    \n"
   ]
  },
  {
   "cell_type": "code",
   "execution_count": 6,
   "metadata": {
    "collapsed": true
   },
   "outputs": [],
   "source": [
    "#-*- coding: utf-8 -*-\n",
    "from __future__ import print_function\n",
    "import pandas as pd\n",
    "\n",
    "#自定义连接函数，用于实现L_{k-1}到C_k的连接\n",
    "def connect_string(x, ms):\n",
    "  x = list(map(lambda i:sorted(i.split(ms)), x))\n",
    "  l = len(x[0])\n",
    "  r = []\n",
    "  for i in range(len(x)):\n",
    "    for j in range(i,len(x)):\n",
    "      if x[i][:l-1] == x[j][:l-1] and x[i][l-1] != x[j][l-1]:\n",
    "        r.append(x[i][:l-1]+sorted([x[j][l-1],x[i][l-1]]))\n",
    "  return r\n",
    "\n",
    "#寻找关联规则的函数\n",
    "def find_rule(d, support, confidence, ms = u'--'):\n",
    "  result = pd.DataFrame(index=['support', 'confidence']) #定义输出结果\n",
    "  \n",
    "  support_series = 1.0*d.sum()/len(d) #支持度序列\n",
    "  column = list(support_series[support_series > support].index) #初步根据支持度筛选\n",
    "  k = 0\n",
    "  \n",
    "  while len(column) > 1:\n",
    "    k = k+1\n",
    "    print(u'\\n正在进行第%s次搜索...' %k)\n",
    "    column = connect_string(column, ms)\n",
    "    print(u'数目：%s...' %len(column))\n",
    "    sf = lambda i: d[i].prod(axis=1, numeric_only = True) #新一批支持度的计算函数\n",
    "    \n",
    "    #创建连接数据，这一步耗时、耗内存最严重。当数据集较大时，可以考虑并行运算优化。\n",
    "    d_2 = pd.DataFrame(list(map(sf,column)), index = [ms.join(i) for i in column]).T\n",
    "    \n",
    "    support_series_2 = 1.0*d_2[[ms.join(i) for i in column]].sum()/len(d) #计算连接后的支持度\n",
    "    column = list(support_series_2[support_series_2 > support].index) #新一轮支持度筛选\n",
    "    support_series = support_series.append(support_series_2)\n",
    "    column2 = []\n",
    "    \n",
    "    for i in column: #遍历可能的推理，如{A,B,C}究竟是A+B-->C还是B+C-->A还是C+A-->B？\n",
    "      i = i.split(ms)\n",
    "      for j in range(len(i)):\n",
    "        column2.append(i[:j]+i[j+1:]+i[j:j+1])\n",
    "    \n",
    "    cofidence_series = pd.Series(index=[ms.join(i) for i in column2]) #定义置信度序列\n",
    " \n",
    "    for i in column2: #计算置信度序列\n",
    "      cofidence_series[ms.join(i)] = support_series[ms.join(sorted(i))]/support_series[ms.join(i[:len(i)-1])]\n",
    "    \n",
    "    for i in cofidence_series[cofidence_series > confidence].index: #置信度筛选\n",
    "      result[i] = 0.0\n",
    "      result[i]['confidence'] = cofidence_series[i]\n",
    "      result[i]['support'] = support_series[ms.join(sorted(i.split(ms)))]\n",
    "  \n",
    "  result = result.T.sort_values(['confidence','support'], ascending = False) #结果整理，输出\n",
    "  print(u'\\n结果为：')\n",
    "  print(result)\n",
    "  \n",
    "  return result"
   ]
  },
  {
   "cell_type": "code",
   "execution_count": 7,
   "metadata": {
    "collapsed": false
   },
   "outputs": [
    {
     "name": "stdout",
     "output_type": "stream",
     "text": [
      "transfrom original dataframe into 0-1 matrix\n",
      "\n",
      " complete transforming use ：0.40 seconds\n",
      "begin to searching aprior rule...\n",
      "\n",
      "正在进行第1次搜索...\n",
      "数目：276...\n",
      "\n",
      "正在进行第2次搜索...\n",
      "数目：947...\n",
      "\n",
      "正在进行第3次搜索...\n",
      "数目：41...\n",
      "\n",
      "结果为：\n",
      "                    support  confidence\n",
      "A3---F4---H4       0.078495    0.879518\n",
      "C3---F4---H4       0.075269    0.875000\n",
      "B2---F4---H4       0.062366    0.794521\n",
      "C2---E3---D2       0.092473    0.754386\n",
      "D2---F3---H4---A2  0.062366    0.753247\n",
      "\n",
      " complete searching use ：1.51 seconds\n"
     ]
    }
   ],
   "source": [
    "import time \n",
    "from __future__ import print_function\n",
    "datafile2='d:/pydata/apriori.txt'\n",
    "data=pd.read_csv(datafile2,header = None, dtype=object)\n",
    "start=time.clock()\n",
    "print(\"transfrom original dataframe into 0-1 matrix\")\n",
    "ct = lambda x : pd.Series(1, index = x[pd.notnull(x)])\n",
    "b = map(ct, data.as_matrix()) \n",
    "c=list(b)\n",
    "data=pd.DataFrame(c).fillna(0)\n",
    "end = time.clock() \n",
    "print('\\n complete transforming use ：%0.2f seconds' %(end-start))\n",
    "del b\n",
    "support=0.06\n",
    "confidence=0.75\n",
    "ms='---'\n",
    "start=time.clock()\n",
    "print(\"begin to searching aprior rule...\")\n",
    "find_rule(data,support,confidence,ms)\n",
    "end=time.clock()\n",
    "print('\\n complete searching use ：%0.2f seconds' %(end-start))\n"
   ]
  },
  {
   "cell_type": "code",
   "execution_count": null,
   "metadata": {
    "collapsed": true
   },
   "outputs": [],
   "source": []
  }
 ],
 "metadata": {
  "kernelspec": {
   "display_name": "Python 3",
   "language": "python",
   "name": "python3"
  },
  "language_info": {
   "codemirror_mode": {
    "name": "ipython",
    "version": 3
   },
   "file_extension": ".py",
   "mimetype": "text/x-python",
   "name": "python",
   "nbconvert_exporter": "python",
   "pygments_lexer": "ipython3",
   "version": "3.6.0"
  }
 },
 "nbformat": 4,
 "nbformat_minor": 2
}
